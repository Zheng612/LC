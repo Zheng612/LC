{
 "cells": [
  {
   "cell_type": "markdown",
   "id": "eec2950b",
   "metadata": {},
   "source": [
    "Given an integer array nums and an integer k, return the number of pairs (i, j) where i < j such that |nums[i] - nums[j]| == k.\n",
    "\n",
    "The value of |x| is defined as:\n",
    "\n",
    "x if x >= 0.\n",
    "-x if x < 0."
   ]
  },
  {
   "cell_type": "code",
   "execution_count": null,
   "id": "7c5ad380",
   "metadata": {},
   "outputs": [],
   "source": [
    "class Solution(object):\n",
    "    def countKDifference(self, nums, k):\n",
    "        i=0\n",
    "        j=1\n",
    "        output=0\n",
    "        for i in range(0, len(nums)-1):\n",
    "            for j in range(i+1, len(nums)):\n",
    "                if abs(nums[i]-nums[j])==k:\n",
    "                    output+=1\n",
    "        return output"
   ]
  }
 ],
 "metadata": {
  "kernelspec": {
   "display_name": "Python 3",
   "language": "python",
   "name": "python3"
  },
  "language_info": {
   "codemirror_mode": {
    "name": "ipython",
    "version": 3
   },
   "file_extension": ".py",
   "mimetype": "text/x-python",
   "name": "python",
   "nbconvert_exporter": "python",
   "pygments_lexer": "ipython3",
   "version": "3.8.8"
  }
 },
 "nbformat": 4,
 "nbformat_minor": 5
}
