
{
 "cells": [
  {
   "cell_type": "code",
   "execution_count": null,
   "id": "7482dad8",
   "metadata": {},
   "outputs": [],
   "source": [
    "class Solution(object):\n",
    "    def xorOperation(self, n, start):\n",
    "        i=0\n",
    "        \n",
    "        Array=[]\n",
    "        Array.append(start)\n",
    "        while i<n-1:\n",
    "            Array.append(Array[i]+2)\n",
    "            i+=1\n",
    "        output=reduce(ixor, Array)\n",
    "        return output"
   ]
  }
 ],
 "metadata": {
  "kernelspec": {
   "display_name": "Python 3",
   "language": "python",
   "name": "python3"
  },
  "language_info": {
   "codemirror_mode": {
    "name": "ipython",
    "version": 3
   },
   "file_extension": ".py",
   "mimetype": "text/x-python",
   "name": "python",
   "nbconvert_exporter": "python",
   "pygments_lexer": "ipython3",
   "version": "3.8.8"
  }
 },
 "nbformat": 4,
 "nbformat_minor": 5
}
