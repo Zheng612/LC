{
 "cells": [
  {
   "cell_type": "markdown",
   "id": "dab3d729",
   "metadata": {},
   "source": [
    "Balanced strings are those that have an equal quantity of 'L' and 'R' characters.\n",
    "\n",
    "Given a balanced string s, split it in the maximum amount of balanced strings.\n",
    "\n",
    "Return the maximum amount of split balanced strings."
   ]
  },
  {
   "cell_type": "code",
   "execution_count": null,
   "id": "936a0eaa",
   "metadata": {},
   "outputs": [],
   "source": [
    "class Solution(object):\n",
    "    def balancedStringSplit(self, s):\n",
    "        output=0\n",
    "        r=0\n",
    "        l=0\n",
    "        for i in s:\n",
    "            if i==\"R\":\n",
    "                r+=1\n",
    "            if i==\"L\":\n",
    "                l+=1\n",
    "            if r==l:\n",
    "                output+=1\n",
    "        return output"
   ]
  }
 ],
 "metadata": {
  "kernelspec": {
   "display_name": "Python 3",
   "language": "python",
   "name": "python3"
  },
  "language_info": {
   "codemirror_mode": {
    "name": "ipython",
    "version": 3
   },
   "file_extension": ".py",
   "mimetype": "text/x-python",
   "name": "python",
   "nbconvert_exporter": "python",
   "pygments_lexer": "ipython3",
   "version": "3.8.8"
  }
 },
 "nbformat": 4,
 "nbformat_minor": 5
}
