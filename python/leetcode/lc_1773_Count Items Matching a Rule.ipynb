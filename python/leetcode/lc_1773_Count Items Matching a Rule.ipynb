{
 "cells": [
  {
   "cell_type": "markdown",
   "id": "742a50de",
   "metadata": {},
   "source": [
    "You are given an array items, where each items[i] = [typei, colori, namei] describes the type, color, and name of the ith item. You are also given a rule represented by two strings, ruleKey and ruleValue.\n",
    "\n",
    "The ith item is said to match the rule if one of the following is true:\n",
    "\n",
    "ruleKey == \"type\" and ruleValue == typei.\n",
    "ruleKey == \"color\" and ruleValue == colori.\n",
    "ruleKey == \"name\" and ruleValue == namei.\n",
    "Return the number of items that match the given rule.\n",
    "\n",
    " "
   ]
  },
  {
   "cell_type": "code",
   "execution_count": null,
   "id": "8a6af5f7",
   "metadata": {},
   "outputs": [],
   "source": [
    "class Solution(object):\n",
    "    def countMatches(self, items, ruleKey, ruleValue):\n",
    "        output=[]\n",
    "        for i in items:\n",
    "            if i[0]==ruleValue and ruleKey==\"type\":\n",
    "                output.append(i)\n",
    "            if i[1]==ruleValue and ruleKey==\"color\":\n",
    "                output.append(i)\n",
    "            if i[2]==ruleValue and ruleKey==\"name\":\n",
    "                output.append(i)\n",
    "        return len(output)\n",
    "        "
   ]
  }
 ],
 "metadata": {
  "kernelspec": {
   "display_name": "Python 3",
   "language": "python",
   "name": "python3"
  },
  "language_info": {
   "codemirror_mode": {
    "name": "ipython",
    "version": 3
   },
   "file_extension": ".py",
   "mimetype": "text/x-python",
   "name": "python",
   "nbconvert_exporter": "python",
   "pygments_lexer": "ipython3",
   "version": "3.8.8"
  }
 },
 "nbformat": 4,
 "nbformat_minor": 5
}
