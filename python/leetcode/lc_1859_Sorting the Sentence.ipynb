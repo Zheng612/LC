{
 "cells": [
  {
   "cell_type": "markdown",
   "id": "44af8424",
   "metadata": {},
   "source": [
    "A sentence is a list of words that are separated by a single space with no leading or trailing spaces. Each word consists of lowercase and uppercase English letters.\n",
    "\n",
    "A sentence can be shuffled by appending the 1-indexed word position to each word then rearranging the words in the sentence.\n",
    "\n",
    "For example, the sentence \"This is a sentence\" can be shuffled as \"sentence4 a3 is2 This1\" or \"is2 sentence4 This1 a3\".\n",
    "Given a shuffled sentence s containing no more than 9 words, reconstruct and return the original sentence."
   ]
  },
  {
   "cell_type": "code",
   "execution_count": null,
   "id": "3aaecbda",
   "metadata": {},
   "outputs": [],
   "source": [
    "class Solution(object):\n",
    "    def sortSentence(self, s):\n",
    "        s_split=s.split()\n",
    "        output=[]\n",
    "        for i in range(1, 10):\n",
    "            for x in s_split:\n",
    "                if str(i) in x:\n",
    "                    output.append(x[0:-1])\n",
    "        return \" \".join(output)\n",
    "            "
   ]
  }
 ],
 "metadata": {
  "kernelspec": {
   "display_name": "Python 3",
   "language": "python",
   "name": "python3"
  },
  "language_info": {
   "codemirror_mode": {
    "name": "ipython",
    "version": 3
   },
   "file_extension": ".py",
   "mimetype": "text/x-python",
   "name": "python",
   "nbconvert_exporter": "python",
   "pygments_lexer": "ipython3",
   "version": "3.8.8"
  }
 },
 "nbformat": 4,
 "nbformat_minor": 5
}
