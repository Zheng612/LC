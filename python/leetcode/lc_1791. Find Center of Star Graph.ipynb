{
 "cells": [
  {
   "cell_type": "markdown",
   "id": "d3d08501",
   "metadata": {},
   "source": [
    "There is an undirected star graph consisting of n nodes labeled from 1 to n. A star graph is a graph where there is one center node and exactly n - 1 edges that connect the center node with every other node.\n",
    "\n",
    "You are given a 2D integer array edges where each edges[i] = [ui, vi] indicates that there is an edge between the nodes ui and vi. Return the center of the given star graph."
   ]
  },
  {
   "cell_type": "code",
   "execution_count": null,
   "id": "2aa86fb3",
   "metadata": {},
   "outputs": [],
   "source": [
    "class Solution(object):\n",
    "    def findCenter(self, edges):\n",
    "        output=0\n",
    "        for i in edges[0]:\n",
    "            for j in edges[1]:\n",
    "                if i==j:\n",
    "                    output+=i\n",
    "        return output"
   ]
  }
 ],
 "metadata": {
  "kernelspec": {
   "display_name": "Python 3",
   "language": "python",
   "name": "python3"
  },
  "language_info": {
   "codemirror_mode": {
    "name": "ipython",
    "version": 3
   },
   "file_extension": ".py",
   "mimetype": "text/x-python",
   "name": "python",
   "nbconvert_exporter": "python",
   "pygments_lexer": "ipython3",
   "version": "3.8.8"
  }
 },
 "nbformat": 4,
 "nbformat_minor": 5
}
